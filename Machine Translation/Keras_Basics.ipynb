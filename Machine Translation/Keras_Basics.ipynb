{
 "cells": [
  {
   "cell_type": "code",
   "execution_count": 0,
   "metadata": {
    "colab": {},
    "colab_type": "code",
    "id": "t2KbLji6JriC"
   },
   "outputs": [],
   "source": [
    "import tensorflow as tf\n",
    "import tensorflow.keras as keras\n",
    "import matplotlib.pyplot as plt"
   ]
  },
  {
   "cell_type": "markdown",
   "metadata": {
    "colab_type": "text",
    "id": "-ZvSw_owHbfR"
   },
   "source": [
    "# 下载并预览数据"
   ]
  },
  {
   "cell_type": "markdown",
   "metadata": {
    "colab_type": "text",
    "id": "1F7B9dy6HSiV"
   },
   "source": []
  },
  {
   "cell_type": "code",
   "execution_count": 0,
   "metadata": {
    "colab": {
     "base_uri": "https://localhost:8080/",
     "height": 233
    },
    "colab_type": "code",
    "id": "nWuDkqLRKRd9",
    "outputId": "de57cbb8-9cf7-4871-f4fa-cdc6d32ca62b"
   },
   "outputs": [
    {
     "name": "stdout",
     "output_type": "stream",
     "text": [
      "Downloading data from https://storage.googleapis.com/tensorflow/tf-keras-datasets/train-labels-idx1-ubyte.gz\n",
      "32768/29515 [=================================] - 0s 0us/step\n",
      "Downloading data from https://storage.googleapis.com/tensorflow/tf-keras-datasets/train-images-idx3-ubyte.gz\n",
      "26427392/26421880 [==============================] - 0s 0us/step\n",
      "Downloading data from https://storage.googleapis.com/tensorflow/tf-keras-datasets/t10k-labels-idx1-ubyte.gz\n",
      "8192/5148 [===============================================] - 0s 0us/step\n",
      "Downloading data from https://storage.googleapis.com/tensorflow/tf-keras-datasets/t10k-images-idx3-ubyte.gz\n",
      "4423680/4422102 [==============================] - 0s 0us/step\n",
      "(60000, 28, 28)\n",
      "(10000, 28, 28)\n",
      "(60000,)\n",
      "(10000,)\n"
     ]
    }
   ],
   "source": [
    "data = keras.datasets.fashion_mnist\n",
    "\n",
    "(x_train, y_train),(x_test, y_test) = data.load_data()\n",
    "x_train, x_test = x_train / 255.0, x_test / 255.0\n",
    "\n",
    "print( x_train.shape )\n",
    "print( x_test.shape )\n",
    "print( y_train.shape )\n",
    "print( y_test.shape )"
   ]
  },
  {
   "cell_type": "code",
   "execution_count": 0,
   "metadata": {
    "colab": {
     "base_uri": "https://localhost:8080/",
     "height": 35
    },
    "colab_type": "code",
    "id": "NvZUwoVbNVgO",
    "outputId": "86068f24-1990-4078-a409-be8feae34eb5"
   },
   "outputs": [
    {
     "data": {
      "text/plain": [
       "'Ankle boot'"
      ]
     },
     "execution_count": 5,
     "metadata": {
      "tags": []
     },
     "output_type": "execute_result"
    }
   ],
   "source": [
    "class_names = [\"T-shirt/top\", \"Trouser\", \"Pullover\", \"Dress\", \"Coat\",\n",
    "               \"Sandal\", \"Shirt\", \"Sneaker\", \"Bag\", \"Ankle boot\"]\n",
    "\n",
    "class_names[y_train[0]]"
   ]
  },
  {
   "cell_type": "code",
   "execution_count": 0,
   "metadata": {
    "colab": {
     "base_uri": "https://localhost:8080/",
     "height": 287
    },
    "colab_type": "code",
    "id": "ND_ykm8YPINQ",
    "outputId": "9f6fac88-23ab-4892-babf-a9b878a2270d"
   },
   "outputs": [
    {
     "data": {
      "text/plain": [
       "<matplotlib.image.AxesImage at 0x7f0816f6c6a0>"
      ]
     },
     "execution_count": 9,
     "metadata": {
      "tags": []
     },
     "output_type": "execute_result"
    },
    {
     "data": {
      "image/png": "[encoded data removed]",
      "text/plain": [
       "<Figure size 432x288 with 1 Axes>"
      ]
     },
     "metadata": {
      "tags": []
     },
     "output_type": "display_data"
    }
   ],
   "source": [
    "plt.imshow(x_train[0])"
   ]
  },
  {
   "cell_type": "markdown",
   "metadata": {
    "colab_type": "text",
    "id": "BRsjcOnGHjl2"
   },
   "source": [
    "# 序列型（Sequential）建模"
   ]
  },
  {
   "cell_type": "code",
   "execution_count": 0,
   "metadata": {
    "colab": {},
    "colab_type": "code",
    "id": "V31GS-XPTm3E"
   },
   "outputs": [],
   "source": [
    "model = keras.models.Sequential()\n",
    "\n",
    "model.add( keras.layers.Flatten(input_shape=[28,28]) )\n",
    "model.add( keras.layers.Dense(100, activation='relu') )\n",
    "model.add( keras.layers.Dense(10, activation='softmax') )\n"
   ]
  },
  {
   "cell_type": "code",
   "execution_count": 0,
   "metadata": {
    "colab": {
     "base_uri": "https://localhost:8080/",
     "height": 71
    },
    "colab_type": "code",
    "id": "y8TYmP6BWnV0",
    "outputId": "de79bb1b-3363-45ba-b872-b7b5bc4954fd"
   },
   "outputs": [
    {
     "data": {
      "text/plain": [
       "[<tensorflow.python.keras.layers.core.Flatten at 0x7f081663a208>,\n",
       " <tensorflow.python.keras.layers.core.Dense at 0x7f08165fb908>,\n",
       " <tensorflow.python.keras.layers.core.Dense at 0x7f08165ac710>]"
      ]
     },
     "execution_count": 20,
     "metadata": {
      "tags": []
     },
     "output_type": "execute_result"
    }
   ],
   "source": [
    "model.layers"
   ]
  },
  {
   "cell_type": "code",
   "execution_count": 0,
   "metadata": {
    "colab": {
     "base_uri": "https://localhost:8080/",
     "height": 269
    },
    "colab_type": "code",
    "id": "PGzZnhIYXWai",
    "outputId": "59186da7-1308-4f5c-99e4-065e75eed9d2"
   },
   "outputs": [
    {
     "name": "stdout",
     "output_type": "stream",
     "text": [
      "Model: \"sequential_8\"\n",
      "_________________________________________________________________\n",
      "Layer (type)                 Output Shape              Param #   \n",
      "=================================================================\n",
      "flatten_7 (Flatten)          (None, 784)               0         \n",
      "_________________________________________________________________\n",
      "dense_5 (Dense)              (None, 100)               78500     \n",
      "_________________________________________________________________\n",
      "dense_6 (Dense)              (None, 10)                1010      \n",
      "=================================================================\n",
      "Total params: 79,510\n",
      "Trainable params: 79,510\n",
      "Non-trainable params: 0\n",
      "_________________________________________________________________\n"
     ]
    }
   ],
   "source": [
    "model.summary()"
   ]
  },
  {
   "cell_type": "code",
   "execution_count": 0,
   "metadata": {
    "colab": {},
    "colab_type": "code",
    "id": "UC4lyAGaovP_"
   },
   "outputs": [],
   "source": [
    "from tensorflow.keras.models import Sequential\n",
    "from tensorflow.keras.layers import Flatten\n",
    "from tensorflow.keras.layers import Dense"
   ]
  },
  {
   "cell_type": "code",
   "execution_count": 0,
   "metadata": {
    "colab": {},
    "colab_type": "code",
    "id": "Amyc6YZlo9fT"
   },
   "outputs": [],
   "source": [
    "model = Sequential()\n",
    "\n",
    "model.add( Flatten(input_shape=[28,28]) )\n",
    "model.add( Dense(100, activation='relu') )\n",
    "model.add( Dense(10, activation='softmax') )"
   ]
  },
  {
   "cell_type": "code",
   "execution_count": 0,
   "metadata": {
    "colab": {
     "base_uri": "https://localhost:8080/",
     "height": 269
    },
    "colab_type": "code",
    "id": "4DOLKEcTpYaI",
    "outputId": "5de9a825-f54e-4831-dd9f-da05944c958c"
   },
   "outputs": [
    {
     "name": "stdout",
     "output_type": "stream",
     "text": [
      "Model: \"sequential_9\"\n",
      "_________________________________________________________________\n",
      "Layer (type)                 Output Shape              Param #   \n",
      "=================================================================\n",
      "flatten_8 (Flatten)          (None, 784)               0         \n",
      "_________________________________________________________________\n",
      "dense_7 (Dense)              (None, 100)               78500     \n",
      "_________________________________________________________________\n",
      "dense_8 (Dense)              (None, 10)                1010      \n",
      "=================================================================\n",
      "Total params: 79,510\n",
      "Trainable params: 79,510\n",
      "Non-trainable params: 0\n",
      "_________________________________________________________________\n"
     ]
    }
   ],
   "source": [
    "model.summary()"
   ]
  },
  {
   "cell_type": "code",
   "execution_count": 0,
   "metadata": {
    "colab": {},
    "colab_type": "code",
    "id": "h0ZEb_u_PgoP"
   },
   "outputs": [],
   "source": [
    "model = Sequential( [Flatten( input_shape=[28, 28] ),\n",
    "                     Dense( 100, activation='relu' ),\n",
    "                     Dense( 10, activation='softmax' )\n",
    "                    ] )"
   ]
  },
  {
   "cell_type": "code",
   "execution_count": 0,
   "metadata": {
    "colab": {
     "base_uri": "https://localhost:8080/",
     "height": 269
    },
    "colab_type": "code",
    "id": "LK6gW-GaTzTJ",
    "outputId": "af00aa82-c022-4d60-bab5-b019e97531d0"
   },
   "outputs": [
    {
     "name": "stdout",
     "output_type": "stream",
     "text": [
      "Model: \"sequential_11\"\n",
      "_________________________________________________________________\n",
      "Layer (type)                 Output Shape              Param #   \n",
      "=================================================================\n",
      "flatten_10 (Flatten)         (None, 784)               0         \n",
      "_________________________________________________________________\n",
      "dense_11 (Dense)             (None, 100)               78500     \n",
      "_________________________________________________________________\n",
      "dense_12 (Dense)             (None, 10)                1010      \n",
      "=================================================================\n",
      "Total params: 79,510\n",
      "Trainable params: 79,510\n",
      "Non-trainable params: 0\n",
      "_________________________________________________________________\n"
     ]
    }
   ],
   "source": [
    "model.summary()"
   ]
  },
  {
   "cell_type": "code",
   "execution_count": 0,
   "metadata": {
    "colab": {
     "base_uri": "https://localhost:8080/",
     "height": 35
    },
    "colab_type": "code",
    "id": "B4KWvGAQEnvX",
    "outputId": "5e5758e0-ffa0-4fdf-e5b8-79fecfb06ac5"
   },
   "outputs": [
    {
     "data": {
      "text/plain": [
       "'dense_11'"
      ]
     },
     "execution_count": 35,
     "metadata": {
      "tags": []
     },
     "output_type": "execute_result"
    }
   ],
   "source": [
    "model.layers[1].name"
   ]
  },
  {
   "cell_type": "code",
   "execution_count": 0,
   "metadata": {
    "colab": {},
    "colab_type": "code",
    "id": "CJO98w7SEu4O"
   },
   "outputs": [],
   "source": [
    "weights, biases = model.layers[1].get_weights()"
   ]
  },
  {
   "cell_type": "code",
   "execution_count": 0,
   "metadata": {
    "colab": {
     "base_uri": "https://localhost:8080/",
     "height": 251
    },
    "colab_type": "code",
    "id": "zdEslfWsE38t",
    "outputId": "c896d775-4757-4b4c-8b05-736c989845f9"
   },
   "outputs": [
    {
     "data": {
      "text/plain": [
       "array([[-0.01193488,  0.07269572,  0.05208179, ..., -0.00347022,\n",
       "         0.05664217,  0.0394345 ],\n",
       "       [ 0.00584205,  0.00589866,  0.0481531 , ..., -0.06362244,\n",
       "        -0.06850211,  0.05887195],\n",
       "       [-0.07782969, -0.01904722, -0.01535878, ...,  0.06800838,\n",
       "        -0.06107122, -0.00137782],\n",
       "       ...,\n",
       "       [ 0.07887568,  0.00490479, -0.04944256, ...,  0.07875963,\n",
       "        -0.07387079,  0.06065156],\n",
       "       [-0.05488511, -0.02359713, -0.04728891, ..., -0.06258013,\n",
       "        -0.01370002,  0.08178167],\n",
       "       [ 0.07035674, -0.01786634,  0.07013498, ..., -0.02767455,\n",
       "         0.01171237, -0.01222234]], dtype=float32)"
      ]
     },
     "execution_count": 37,
     "metadata": {
      "tags": []
     },
     "output_type": "execute_result"
    }
   ],
   "source": [
    "weights"
   ]
  },
  {
   "cell_type": "code",
   "execution_count": 0,
   "metadata": {
    "colab": {
     "base_uri": "https://localhost:8080/",
     "height": 143
    },
    "colab_type": "code",
    "id": "djMrDkQ-E721",
    "outputId": "ec128471-f164-43e0-a592-8312252d0634"
   },
   "outputs": [
    {
     "data": {
      "text/plain": [
       "array([0., 0., 0., 0., 0., 0., 0., 0., 0., 0., 0., 0., 0., 0., 0., 0., 0.,\n",
       "       0., 0., 0., 0., 0., 0., 0., 0., 0., 0., 0., 0., 0., 0., 0., 0., 0.,\n",
       "       0., 0., 0., 0., 0., 0., 0., 0., 0., 0., 0., 0., 0., 0., 0., 0., 0.,\n",
       "       0., 0., 0., 0., 0., 0., 0., 0., 0., 0., 0., 0., 0., 0., 0., 0., 0.,\n",
       "       0., 0., 0., 0., 0., 0., 0., 0., 0., 0., 0., 0., 0., 0., 0., 0., 0.,\n",
       "       0., 0., 0., 0., 0., 0., 0., 0., 0., 0., 0., 0., 0., 0., 0.],\n",
       "      dtype=float32)"
      ]
     },
     "execution_count": 38,
     "metadata": {
      "tags": []
     },
     "output_type": "execute_result"
    }
   ],
   "source": [
    "biases"
   ]
  },
  {
   "cell_type": "code",
   "execution_count": 0,
   "metadata": {
    "colab": {
     "base_uri": "https://localhost:8080/",
     "height": 53
    },
    "colab_type": "code",
    "id": "ZqrUFJs_E8hW",
    "outputId": "afe8f8b7-7845-4356-80ea-0219e0bb4c24"
   },
   "outputs": [
    {
     "name": "stdout",
     "output_type": "stream",
     "text": [
      "(784, 100)\n",
      "(100,)\n"
     ]
    }
   ],
   "source": [
    "print( weights.shape )\n",
    "print( biases.shape )"
   ]
  },
  {
   "cell_type": "markdown",
   "metadata": {
    "colab_type": "text",
    "id": "JaD0S8knHthX"
   },
   "source": [
    "# 函数型（Functional）建模"
   ]
  },
  {
   "cell_type": "code",
   "execution_count": 0,
   "metadata": {
    "colab": {},
    "colab_type": "code",
    "id": "qLHde7BT_FrV"
   },
   "outputs": [],
   "source": [
    "from tensorflow.keras.layers import Input, Flatten, Dense\n",
    "from tensorflow.keras.models import Model"
   ]
  },
  {
   "cell_type": "code",
   "execution_count": 0,
   "metadata": {
    "colab": {},
    "colab_type": "code",
    "id": "2kaO1T12Ihvi"
   },
   "outputs": [],
   "source": [
    "input = Input( shape=[28,28] )\n",
    "x = Flatten()( input )\n",
    "x = Dense(100, activation='relu')(x)\n",
    "output = Dense(10, activation='softmax')(x)\n",
    "\n",
    "model = Model( inputs=[input], outputs=[output] )"
   ]
  },
  {
   "cell_type": "code",
   "execution_count": 0,
   "metadata": {
    "colab": {
     "base_uri": "https://localhost:8080/",
     "height": 305
    },
    "colab_type": "code",
    "id": "QzjyDf0AJC7c",
    "outputId": "f9c43df1-f049-4b28-e9a9-9c629a44f0a2"
   },
   "outputs": [
    {
     "name": "stdout",
     "output_type": "stream",
     "text": [
      "Model: \"model\"\n",
      "_________________________________________________________________\n",
      "Layer (type)                 Output Shape              Param #   \n",
      "=================================================================\n",
      "input_2 (InputLayer)         [(None, 28, 28)]          0         \n",
      "_________________________________________________________________\n",
      "flatten_12 (Flatten)         (None, 784)               0         \n",
      "_________________________________________________________________\n",
      "dense_13 (Dense)             (None, 100)               78500     \n",
      "_________________________________________________________________\n",
      "dense_14 (Dense)             (None, 10)                1010      \n",
      "=================================================================\n",
      "Total params: 79,510\n",
      "Trainable params: 79,510\n",
      "Non-trainable params: 0\n",
      "_________________________________________________________________\n"
     ]
    }
   ],
   "source": [
    "model.summary()\n"
   ]
  },
  {
   "cell_type": "markdown",
   "metadata": {
    "colab_type": "text",
    "id": "4nkFE1F7arq0"
   },
   "source": [
    "# 子类化（Subclassing）建模"
   ]
  },
  {
   "cell_type": "code",
   "execution_count": 0,
   "metadata": {
    "colab": {},
    "colab_type": "code",
    "id": "jhGZL_Fi1cOR"
   },
   "outputs": [],
   "source": [
    "from tensorflow.keras.layers import Activation, Flatten, Dense, concatenate\n",
    "from tensorflow.keras.models import Model"
   ]
  },
  {
   "cell_type": "code",
   "execution_count": 14,
   "metadata": {
    "colab": {
     "base_uri": "https://localhost:8080/",
     "height": 89
    },
    "colab_type": "code",
    "id": "dNTeiE9H8e8A",
    "outputId": "6091a5c3-91c4-4885-a4e3-5502185a623a"
   },
   "outputs": [
    {
     "data": {
      "text/plain": [
       "[<tensorflow.python.keras.layers.core.Dense at 0x7f1d73214ef0>,\n",
       " <tensorflow.python.keras.layers.core.Dense at 0x7f1d731bb278>,\n",
       " <tensorflow.python.keras.layers.core.Dense at 0x7f1d731bb588>,\n",
       " <tensorflow.python.keras.layers.core.Dense at 0x7f1d731bb898>]"
      ]
     },
     "execution_count": 14,
     "metadata": {
      "tags": []
     },
     "output_type": "execute_result"
    }
   ],
   "source": [
    "model1.layers"
   ]
  },
  {
   "cell_type": "code",
   "execution_count": 0,
   "metadata": {
    "colab": {},
    "colab_type": "code",
    "id": "rI1aDQMb7cso"
   },
   "outputs": [],
   "source": [
    "class SomeModel(Model):\n",
    "  \n",
    "  def __init__( self, units=100, numClass=10, **kwargs ):\n",
    "    \n",
    "    super().__init__(**kwargs)\n",
    "    self.hidden = Dense( units, activation='relu' ) \n",
    "    self.main_output = Dense( numClass, activation='softmax' ) \n",
    "\n",
    "  def call( self, input ):\n",
    "      \n",
    "      x = Flatten()(input)\n",
    "      hidden = self.hidden(x)\n",
    "      output = self.main_output(hidden)\n",
    "      return output"
   ]
  },
  {
   "cell_type": "code",
   "execution_count": 0,
   "metadata": {
    "colab": {},
    "colab_type": "code",
    "id": "ZHx1-mvn2IfU"
   },
   "outputs": [],
   "source": [
    "model = SomeModel()"
   ]
  },
  {
   "cell_type": "code",
   "execution_count": 18,
   "metadata": {
    "colab": {
     "base_uri": "https://localhost:8080/",
     "height": 35
    },
    "colab_type": "code",
    "id": "fEf_nu5o4ESv",
    "outputId": "5064f1b8-7263-45e8-b249-42c23ee88eaf"
   },
   "outputs": [
    {
     "data": {
      "text/plain": [
       "<__main__.SomeModel at 0x7f1d73214c18>"
      ]
     },
     "execution_count": 18,
     "metadata": {
      "tags": []
     },
     "output_type": "execute_result"
    }
   ],
   "source": [
    "model"
   ]
  },
  {
   "cell_type": "code",
   "execution_count": 30,
   "metadata": {
    "colab": {
     "base_uri": "https://localhost:8080/",
     "height": 53
    },
    "colab_type": "code",
    "id": "jVfl3uIZ25is",
    "outputId": "f8137496-7b71-4204-888b-ad0c01555b98"
   },
   "outputs": [
    {
     "data": {
      "text/plain": [
       "[<tensorflow.python.keras.layers.core.Dense at 0x7f1d73114b38>,\n",
       " <tensorflow.python.keras.layers.core.Dense at 0x7f1d73114e48>]"
      ]
     },
     "execution_count": 30,
     "metadata": {
      "tags": []
     },
     "output_type": "execute_result"
    }
   ],
   "source": [
    "model.layers"
   ]
  },
  {
   "cell_type": "markdown",
   "metadata": {
    "colab_type": "text",
    "id": "5R5S3CnAjA_u"
   },
   "source": [
    "# 编译模型"
   ]
  },
  {
   "cell_type": "code",
   "execution_count": 0,
   "metadata": {
    "colab": {},
    "colab_type": "code",
    "id": "FnYW-hJYjFuK"
   },
   "outputs": [],
   "source": [
    "model = Sequential()\n",
    "\n",
    "model.add( Flatten(input_shape=[28,28]) )\n",
    "model.add( Dense(100, activation='relu') )\n",
    "model.add( Dense(10, activation='softmax') )"
   ]
  },
  {
   "cell_type": "code",
   "execution_count": 0,
   "metadata": {
    "colab": {},
    "colab_type": "code",
    "id": "zZegr331jXOY"
   },
   "outputs": [],
   "source": [
    "model.compile( loss='sparse_categorical_crossentropy',\n",
    "               optimizer='adam',\n",
    "               metrics=['accuracy'] )"
   ]
  },
  {
   "cell_type": "markdown",
   "metadata": {
    "colab_type": "text",
    "id": "uUszrk7CqsfM"
   },
   "source": [
    "# 拟合模型"
   ]
  },
  {
   "cell_type": "code",
   "execution_count": 0,
   "metadata": {
    "colab": {
     "base_uri": "https://localhost:8080/",
     "height": 755
    },
    "colab_type": "code",
    "id": "E1iXQ1unj3po",
    "outputId": "d7e70ef0-b325-4178-c159-e01484b57ec3"
   },
   "outputs": [
    {
     "name": "stdout",
     "output_type": "stream",
     "text": [
      "Epoch 1/20\n",
      "60000/60000 [==============================] - 5s 77us/sample - loss: 0.5016 - acc: 0.8249\n",
      "Epoch 2/20\n",
      "60000/60000 [==============================] - 4s 64us/sample - loss: 0.3807 - acc: 0.8626\n",
      "Epoch 3/20\n",
      "60000/60000 [==============================] - 4s 62us/sample - loss: 0.3401 - acc: 0.8770\n",
      "Epoch 4/20\n",
      "60000/60000 [==============================] - 4s 61us/sample - loss: 0.3162 - acc: 0.8851\n",
      "Epoch 5/20\n",
      "60000/60000 [==============================] - 4s 58us/sample - loss: 0.2999 - acc: 0.8901\n",
      "Epoch 6/20\n",
      "60000/60000 [==============================] - 4s 61us/sample - loss: 0.2836 - acc: 0.8954\n",
      "Epoch 7/20\n",
      "60000/60000 [==============================] - 4s 61us/sample - loss: 0.2731 - acc: 0.8989\n",
      "Epoch 8/20\n",
      "60000/60000 [==============================] - 4s 59us/sample - loss: 0.2635 - acc: 0.9023\n",
      "Epoch 9/20\n",
      "60000/60000 [==============================] - 4s 58us/sample - loss: 0.2535 - acc: 0.9060\n",
      "Epoch 10/20\n",
      "60000/60000 [==============================] - 4s 59us/sample - loss: 0.2473 - acc: 0.9069\n",
      "Epoch 11/20\n",
      "60000/60000 [==============================] - 4s 61us/sample - loss: 0.2392 - acc: 0.9106\n",
      "Epoch 12/20\n",
      "60000/60000 [==============================] - 4s 60us/sample - loss: 0.2340 - acc: 0.9125\n",
      "Epoch 13/20\n",
      "60000/60000 [==============================] - 4s 61us/sample - loss: 0.2267 - acc: 0.9153\n",
      "Epoch 14/20\n",
      "60000/60000 [==============================] - 4s 61us/sample - loss: 0.2195 - acc: 0.9173\n",
      "Epoch 15/20\n",
      "60000/60000 [==============================] - 4s 61us/sample - loss: 0.2166 - acc: 0.9184\n",
      "Epoch 16/20\n",
      "60000/60000 [==============================] - 4s 60us/sample - loss: 0.2088 - acc: 0.9212\n",
      "Epoch 17/20\n",
      "60000/60000 [==============================] - 4s 61us/sample - loss: 0.2054 - acc: 0.9238\n",
      "Epoch 18/20\n",
      "60000/60000 [==============================] - 4s 60us/sample - loss: 0.1992 - acc: 0.9255\n",
      "Epoch 19/20\n",
      "60000/60000 [==============================] - 4s 60us/sample - loss: 0.1944 - acc: 0.9264\n",
      "Epoch 20/20\n",
      "60000/60000 [==============================] - 4s 60us/sample - loss: 0.1907 - acc: 0.9282\n"
     ]
    },
    {
     "data": {
      "text/plain": [
       "<tensorflow.python.keras.callbacks.History at 0x7f05050847b8>"
      ]
     },
     "execution_count": 13,
     "metadata": {
      "tags": []
     },
     "output_type": "execute_result"
    }
   ],
   "source": [
    "model.fit( x_train, y_train, epochs=20 )"
   ]
  },
  {
   "cell_type": "code",
   "execution_count": 0,
   "metadata": {
    "colab": {},
    "colab_type": "code",
    "id": "Dl2q7XZgkBGx"
   },
   "outputs": [],
   "source": [
    "class myCallback( tf.keras.callbacks.Callback ):\n",
    "  def on_epoch_end(self, epoch, logs={}):\n",
    "    if(logs.get('acc')>0.9):\n",
    "      print(\"\\nReached 90% accuracy so cancelling training!\")\n",
    "      self.model.stop_training = True\n",
    "\n",
    "callbacks = myCallback()"
   ]
  },
  {
   "cell_type": "code",
   "execution_count": 0,
   "metadata": {
    "colab": {
     "base_uri": "https://localhost:8080/",
     "height": 359
    },
    "colab_type": "code",
    "id": "eHs6QHCxpTRl",
    "outputId": "569b8427-5bbe-45a2-b5ca-1de146b47a77"
   },
   "outputs": [
    {
     "name": "stdout",
     "output_type": "stream",
     "text": [
      "Epoch 1/20\n",
      "60000/60000 [==============================] - 4s 63us/sample - loss: 0.5013 - acc: 0.8233\n",
      "Epoch 2/20\n",
      "60000/60000 [==============================] - 4s 62us/sample - loss: 0.3789 - acc: 0.8623\n",
      "Epoch 3/20\n",
      "60000/60000 [==============================] - 4s 62us/sample - loss: 0.3410 - acc: 0.8763\n",
      "Epoch 4/20\n",
      "60000/60000 [==============================] - 4s 62us/sample - loss: 0.3171 - acc: 0.8852\n",
      "Epoch 5/20\n",
      "60000/60000 [==============================] - 4s 62us/sample - loss: 0.3004 - acc: 0.8897\n",
      "Epoch 6/20\n",
      "60000/60000 [==============================] - 4s 62us/sample - loss: 0.2884 - acc: 0.8937\n",
      "Epoch 7/20\n",
      "60000/60000 [==============================] - 4s 63us/sample - loss: 0.2734 - acc: 0.8985\n",
      "Epoch 8/20\n",
      "59712/60000 [============================>.] - ETA: 0s - loss: 0.2634 - acc: 0.9017\n",
      "Reached 90% accuracy so cancelling training!\n",
      "60000/60000 [==============================] - 4s 62us/sample - loss: 0.2636 - acc: 0.9016\n"
     ]
    },
    {
     "data": {
      "text/plain": [
       "<tensorflow.python.keras.callbacks.History at 0x7f052c89eb38>"
      ]
     },
     "execution_count": 17,
     "metadata": {
      "tags": []
     },
     "output_type": "execute_result"
    }
   ],
   "source": [
    "model = Sequential()\n",
    "\n",
    "model.add( Flatten(input_shape=[28,28]) )\n",
    "model.add( Dense(100, activation='relu') )\n",
    "model.add( Dense(10, activation='softmax') )\n",
    "\n",
    "model.compile( loss='sparse_categorical_crossentropy',\n",
    "               optimizer='adam',\n",
    "               metrics=['accuracy'] )\n",
    "\n",
    "model.fit( x_train, y_train, epochs=20, callbacks=[callbacks] )"
   ]
  },
  {
   "cell_type": "markdown",
   "metadata": {
    "colab_type": "text",
    "id": "FBtaK8QIqvgm"
   },
   "source": [
    "# 预测模型"
   ]
  },
  {
   "cell_type": "code",
   "execution_count": 0,
   "metadata": {
    "colab": {
     "base_uri": "https://localhost:8080/",
     "height": 71
    },
    "colab_type": "code",
    "id": "YLmeFPKhq9pa",
    "outputId": "95251b5d-6cb6-4ed0-c3e2-6cc0e149b3c7"
   },
   "outputs": [
    {
     "data": {
      "text/plain": [
       "array([[4.18439913e-06, 1.58294569e-08, 1.01341634e-07, 3.87853927e-09,\n",
       "        4.81276530e-08, 1.27529853e-03, 6.69016231e-07, 1.02730272e-02,\n",
       "        7.33473257e-07, 9.88445997e-01]], dtype=float32)"
      ]
     },
     "execution_count": 32,
     "metadata": {
      "tags": []
     },
     "output_type": "execute_result"
    }
   ],
   "source": [
    "prob = model.predict( x_test[0:1] )\n",
    "prob"
   ]
  },
  {
   "cell_type": "code",
   "execution_count": 0,
   "metadata": {
    "colab": {
     "base_uri": "https://localhost:8080/",
     "height": 35
    },
    "colab_type": "code",
    "id": "6zWKDawxtS4i",
    "outputId": "b1ec0d04-cca6-46f8-e2f9-200b7cde65ac"
   },
   "outputs": [
    {
     "data": {
      "text/plain": [
       "9"
      ]
     },
     "execution_count": 33,
     "metadata": {
      "tags": []
     },
     "output_type": "execute_result"
    }
   ],
   "source": [
    "import numpy as np\n",
    "\n",
    "np.argmax(prob)"
   ]
  },
  {
   "cell_type": "code",
   "execution_count": 0,
   "metadata": {
    "colab": {
     "base_uri": "https://localhost:8080/",
     "height": 35
    },
    "colab_type": "code",
    "id": "Df1S7zmNrg6i",
    "outputId": "3461ed1f-31cc-43d0-d811-bbc7aaa75085"
   },
   "outputs": [
    {
     "name": "stdout",
     "output_type": "stream",
     "text": [
      "9\n"
     ]
    }
   ],
   "source": [
    "print( y_test[0] )"
   ]
  },
  {
   "cell_type": "code",
   "execution_count": 0,
   "metadata": {
    "colab": {
     "base_uri": "https://localhost:8080/",
     "height": 287
    },
    "colab_type": "code",
    "id": "kRAuDP45sAuD",
    "outputId": "074d6fde-4a9f-43ce-d1f9-a95a680dbdaa"
   },
   "outputs": [
    {
     "data": {
      "text/plain": [
       "<matplotlib.image.AxesImage at 0x7f04f16b44e0>"
      ]
     },
     "execution_count": 24,
     "metadata": {
      "tags": []
     },
     "output_type": "execute_result"
    },
    {
     "data": {
      "image/png": "[encoded data removed]",
      "text/plain": [
       "<Figure size 432x288 with 1 Axes>"
      ]
     },
     "metadata": {
      "tags": []
     },
     "output_type": "display_data"
    }
   ],
   "source": [
    "plt.imshow(x_test[0])"
   ]
  },
  {
   "cell_type": "code",
   "execution_count": 0,
   "metadata": {
    "colab": {
     "base_uri": "https://localhost:8080/",
     "height": 53
    },
    "colab_type": "code",
    "id": "zFmJDUHnpaHP",
    "outputId": "7467e053-8bb8-43e5-876b-25c1d02eef16"
   },
   "outputs": [
    {
     "name": "stdout",
     "output_type": "stream",
     "text": [
      "10000/10000 [==============================] - 0s 43us/sample - loss: 0.3399 - acc: 0.8773\n"
     ]
    },
    {
     "data": {
      "text/plain": [
       "[0.3398971742153168, 0.8773]"
      ]
     },
     "execution_count": 21,
     "metadata": {
      "tags": []
     },
     "output_type": "execute_result"
    }
   ],
   "source": [
    "model.evaluate( x_test, y_test )"
   ]
  },
  {
   "cell_type": "code",
   "execution_count": 0,
   "metadata": {
    "colab": {},
    "colab_type": "code",
    "id": "vfwfZIk0r4Nn"
   },
   "outputs": [],
   "source": [
    "# 训练精度 90% 但是测试精度 87.7%，有过拟合的征兆"
   ]
  },
  {
   "cell_type": "markdown",
   "metadata": {
    "colab_type": "text",
    "id": "a9ScZEUHvhgq"
   },
   "source": [
    "## 引进验证集"
   ]
  },
  {
   "cell_type": "code",
   "execution_count": 0,
   "metadata": {
    "colab": {},
    "colab_type": "code",
    "id": "wdeqxXZFvlSr"
   },
   "outputs": [],
   "source": [
    "data = keras.datasets.fashion_mnist\n",
    "\n",
    "(x_train_full, y_train_full),(x_test, y_test) = data.load_data()\n",
    "\n",
    "x_valid, x_train = x_train_full[:5000] / 255.0, x_train_full[5000:] / 255.0\n",
    "y_valid, y_train = y_train_full[:5000], y_train_full[5000:]"
   ]
  },
  {
   "cell_type": "code",
   "execution_count": 0,
   "metadata": {
    "colab": {},
    "colab_type": "code",
    "id": "eoWS6Qd3wuKq"
   },
   "outputs": [],
   "source": [
    "class myCallback( tf.keras.callbacks.Callback ):\n",
    "  def on_epoch_end(self, epoch, logs={}):\n",
    "    if(logs.get('val_acc')>0.9):\n",
    "      print(\"\\nReached 90% validation accuracy so cancelling training!\")\n",
    "      self.model.stop_training = True\n",
    "\n",
    "callbacks = myCallback()"
   ]
  },
  {
   "cell_type": "code",
   "execution_count": 0,
   "metadata": {
    "colab": {
     "base_uri": "https://localhost:8080/",
     "height": 755
    },
    "colab_type": "code",
    "id": "OdDYrGK5wBgi",
    "outputId": "4ec8d58b-e17e-444b-b360-3de8bcc5b3e7"
   },
   "outputs": [
    {
     "name": "stdout",
     "output_type": "stream",
     "text": [
      "Train on 55000 samples, validate on 5000 samples\n",
      "Epoch 1/20\n",
      "55000/55000 [==============================] - 4s 69us/sample - loss: 0.5139 - acc: 0.8202 - val_loss: 0.4279 - val_acc: 0.8540\n",
      "Epoch 2/20\n",
      "55000/55000 [==============================] - 4s 66us/sample - loss: 0.3893 - acc: 0.8605 - val_loss: 0.3629 - val_acc: 0.8740\n",
      "Epoch 3/20\n",
      "55000/55000 [==============================] - 4s 65us/sample - loss: 0.3462 - acc: 0.8747 - val_loss: 0.3450 - val_acc: 0.8732\n",
      "Epoch 4/20\n",
      "55000/55000 [==============================] - 4s 65us/sample - loss: 0.3232 - acc: 0.8825 - val_loss: 0.3272 - val_acc: 0.8808\n",
      "Epoch 5/20\n",
      "55000/55000 [==============================] - 4s 65us/sample - loss: 0.3053 - acc: 0.8885 - val_loss: 0.3283 - val_acc: 0.8758\n",
      "Epoch 6/20\n",
      "55000/55000 [==============================] - 4s 65us/sample - loss: 0.2891 - acc: 0.8925 - val_loss: 0.3739 - val_acc: 0.8540\n",
      "Epoch 7/20\n",
      "55000/55000 [==============================] - 4s 66us/sample - loss: 0.2767 - acc: 0.8992 - val_loss: 0.3242 - val_acc: 0.8802\n",
      "Epoch 8/20\n",
      "55000/55000 [==============================] - 4s 65us/sample - loss: 0.2680 - acc: 0.9003 - val_loss: 0.3115 - val_acc: 0.8876\n",
      "Epoch 9/20\n",
      "55000/55000 [==============================] - 4s 65us/sample - loss: 0.2564 - acc: 0.9050 - val_loss: 0.3141 - val_acc: 0.8866\n",
      "Epoch 10/20\n",
      "55000/55000 [==============================] - 4s 65us/sample - loss: 0.2479 - acc: 0.9069 - val_loss: 0.3125 - val_acc: 0.8892\n",
      "Epoch 11/20\n",
      "55000/55000 [==============================] - 4s 65us/sample - loss: 0.2394 - acc: 0.9105 - val_loss: 0.3278 - val_acc: 0.8904\n",
      "Epoch 12/20\n",
      "55000/55000 [==============================] - 4s 64us/sample - loss: 0.2331 - acc: 0.9134 - val_loss: 0.3027 - val_acc: 0.8908\n",
      "Epoch 13/20\n",
      "55000/55000 [==============================] - 4s 67us/sample - loss: 0.2256 - acc: 0.9154 - val_loss: 0.3196 - val_acc: 0.8886\n",
      "Epoch 14/20\n",
      "55000/55000 [==============================] - 4s 68us/sample - loss: 0.2189 - acc: 0.9181 - val_loss: 0.3233 - val_acc: 0.8916\n",
      "Epoch 15/20\n",
      "55000/55000 [==============================] - 4s 68us/sample - loss: 0.2122 - acc: 0.9209 - val_loss: 0.3164 - val_acc: 0.8920\n",
      "Epoch 16/20\n",
      "55000/55000 [==============================] - 4s 66us/sample - loss: 0.2067 - acc: 0.9227 - val_loss: 0.3545 - val_acc: 0.8766\n",
      "Epoch 17/20\n",
      "55000/55000 [==============================] - 4s 65us/sample - loss: 0.2010 - acc: 0.9242 - val_loss: 0.3342 - val_acc: 0.8882\n",
      "Epoch 18/20\n",
      "55000/55000 [==============================] - 4s 64us/sample - loss: 0.1959 - acc: 0.9265 - val_loss: 0.3250 - val_acc: 0.8938\n",
      "Epoch 19/20\n",
      "55000/55000 [==============================] - 4s 65us/sample - loss: 0.1923 - acc: 0.9270 - val_loss: 0.3265 - val_acc: 0.8900\n",
      "Epoch 20/20\n",
      "55000/55000 [==============================] - 4s 64us/sample - loss: 0.1878 - acc: 0.9288 - val_loss: 0.3465 - val_acc: 0.8898\n"
     ]
    }
   ],
   "source": [
    "model = Sequential()\n",
    "\n",
    "model.add( Flatten(input_shape=[28,28]) )\n",
    "model.add( Dense(100, activation='relu') )\n",
    "model.add( Dense(10, activation='softmax') )\n",
    "\n",
    "model.compile( loss='sparse_categorical_crossentropy',\n",
    "               optimizer='adam',\n",
    "               metrics=['accuracy'] )\n",
    "\n",
    "history = model.fit( x_train,\n",
    "                     y_train,\n",
    "                     epochs=20, \n",
    "                     validation_data=(x_valid, y_valid), \n",
    "                     callbacks=[callbacks] )"
   ]
  },
  {
   "cell_type": "code",
   "execution_count": 0,
   "metadata": {
    "colab": {
     "base_uri": "https://localhost:8080/",
     "height": 755
    },
    "colab_type": "code",
    "id": "QAtj4x8mxIUM",
    "outputId": "f8ba99a6-c094-4d82-d99e-6351dfd1b320"
   },
   "outputs": [
    {
     "name": "stdout",
     "output_type": "stream",
     "text": [
      "Train on 55000 samples, validate on 5000 samples\n",
      "Epoch 1/20\n",
      "55000/55000 [==============================] - 8s 149us/sample - loss: 0.4450 - acc: 0.8387 - val_loss: 0.3097 - val_acc: 0.8810\n",
      "Epoch 2/20\n",
      "55000/55000 [==============================] - 5s 96us/sample - loss: 0.2956 - acc: 0.8917 - val_loss: 0.3552 - val_acc: 0.8670\n",
      "Epoch 3/20\n",
      "55000/55000 [==============================] - 5s 96us/sample - loss: 0.2533 - acc: 0.9064 - val_loss: 0.2606 - val_acc: 0.9010\n",
      "Epoch 4/20\n",
      "55000/55000 [==============================] - 5s 96us/sample - loss: 0.2205 - acc: 0.9184 - val_loss: 0.2286 - val_acc: 0.9158\n",
      "Epoch 5/20\n",
      "55000/55000 [==============================] - 5s 95us/sample - loss: 0.1919 - acc: 0.9279 - val_loss: 0.2335 - val_acc: 0.9160\n",
      "Epoch 6/20\n",
      "55000/55000 [==============================] - 5s 95us/sample - loss: 0.1689 - acc: 0.9359 - val_loss: 0.2343 - val_acc: 0.9160\n",
      "Epoch 7/20\n",
      "55000/55000 [==============================] - 5s 97us/sample - loss: 0.1471 - acc: 0.9437 - val_loss: 0.2405 - val_acc: 0.9128\n",
      "Epoch 8/20\n",
      "55000/55000 [==============================] - 5s 96us/sample - loss: 0.1275 - acc: 0.9512 - val_loss: 0.2589 - val_acc: 0.9116\n",
      "Epoch 9/20\n",
      "55000/55000 [==============================] - 5s 95us/sample - loss: 0.1131 - acc: 0.9567 - val_loss: 0.2882 - val_acc: 0.9134\n",
      "Epoch 10/20\n",
      "55000/55000 [==============================] - 5s 95us/sample - loss: 0.0964 - acc: 0.9633 - val_loss: 0.2807 - val_acc: 0.9178\n",
      "Epoch 11/20\n",
      "55000/55000 [==============================] - 5s 94us/sample - loss: 0.0849 - acc: 0.9681 - val_loss: 0.3317 - val_acc: 0.9140\n",
      "Epoch 12/20\n",
      "55000/55000 [==============================] - 5s 95us/sample - loss: 0.0760 - acc: 0.9716 - val_loss: 0.3452 - val_acc: 0.9108\n",
      "Epoch 13/20\n",
      "55000/55000 [==============================] - 5s 96us/sample - loss: 0.0666 - acc: 0.9751 - val_loss: 0.3532 - val_acc: 0.9126\n",
      "Epoch 14/20\n",
      "55000/55000 [==============================] - 5s 95us/sample - loss: 0.0604 - acc: 0.9771 - val_loss: 0.3365 - val_acc: 0.9166\n",
      "Epoch 15/20\n",
      "55000/55000 [==============================] - 5s 96us/sample - loss: 0.0533 - acc: 0.9801 - val_loss: 0.3857 - val_acc: 0.9116\n",
      "Epoch 16/20\n",
      "55000/55000 [==============================] - 5s 95us/sample - loss: 0.0454 - acc: 0.9827 - val_loss: 0.3879 - val_acc: 0.9176\n",
      "Epoch 17/20\n",
      "55000/55000 [==============================] - 5s 94us/sample - loss: 0.0441 - acc: 0.9835 - val_loss: 0.4910 - val_acc: 0.9068\n",
      "Epoch 18/20\n",
      "55000/55000 [==============================] - 5s 95us/sample - loss: 0.0393 - acc: 0.9858 - val_loss: 0.4296 - val_acc: 0.9108\n",
      "Epoch 19/20\n",
      "55000/55000 [==============================] - 5s 94us/sample - loss: 0.0377 - acc: 0.9860 - val_loss: 0.5250 - val_acc: 0.9046\n",
      "Epoch 20/20\n",
      "55000/55000 [==============================] - 5s 96us/sample - loss: 0.0357 - acc: 0.9871 - val_loss: 0.4840 - val_acc: 0.9136\n"
     ]
    }
   ],
   "source": [
    "from tensorflow.keras.layers import Conv2D, MaxPooling2D\n",
    "\n",
    "data = keras.datasets.fashion_mnist\n",
    "\n",
    "(x_train_full, y_train_full),(x_test, y_test) = data.load_data()\n",
    "\n",
    "x_train_full = x_train_full.reshape(60000, 28, 28, 1)\n",
    "x_test = x_test.reshape(10000, 28, 28, 1)\n",
    "\n",
    "x_valid, x_train = x_train_full[:5000] / 255.0, x_train_full[5000:] / 255.0\n",
    "y_valid, y_train = y_train_full[:5000], y_train_full[5000:]\n",
    "\n",
    "\n",
    "model = Sequential([Conv2D(64, (3,3), activation='relu', input_shape=(28,28,1)),\n",
    "                    MaxPooling2D(2,2),\n",
    "                    Conv2D(64, (3,3), activation='relu'),\n",
    "                    MaxPooling2D(2,2),\n",
    "                    Flatten(),\n",
    "                    Dense(128, activation='relu'),\n",
    "                    Dense(10, activation='softmax') ])\n",
    "\n",
    "model.compile( loss='sparse_categorical_crossentropy',\n",
    "               optimizer='adam',\n",
    "               metrics=['accuracy'] )\n",
    "\n",
    "history = model.fit( x_train,\n",
    "                     y_train,\n",
    "                     epochs=20, \n",
    "                     validation_data=(x_valid, y_valid) )"
   ]
  },
  {
   "cell_type": "code",
   "execution_count": 0,
   "metadata": {
    "colab": {
     "base_uri": "https://localhost:8080/",
     "height": 385
    },
    "colab_type": "code",
    "id": "O2GrT5mSA1Mu",
    "outputId": "279d5a97-0581-4f0c-f1f8-07362ab8d236"
   },
   "outputs": [
    {
     "data": {
      "image/png": "[encoded data removed]",
      "text/plain": [
       "<Figure size 800x400 with 2 Axes>"
      ]
     },
     "metadata": {
      "tags": []
     },
     "output_type": "display_data"
    }
   ],
   "source": [
    "acc = history.history['acc']\n",
    "val_acc = history.history['val_acc']\n",
    "loss = history.history['loss']\n",
    "val_loss = history.history['val_loss']\n",
    "\n",
    "epochs = range(1, len(acc) + 1)\n",
    "\n",
    "plt.figure( figsize=(8,4), dpi=100 )\n",
    "\n",
    "plt.subplot(1,2,1)\n",
    "plt.plot(epochs, acc, 'bo', label='Training acc')\n",
    "plt.plot(epochs, val_acc, 'b', label='Validation acc')\n",
    "plt.title('Training and validation accuracy')\n",
    "plt.legend()\n",
    "\n",
    "plt.subplot(1,2,2)\n",
    "plt.plot(epochs, loss, 'bo', label='Training loss')\n",
    "plt.plot(epochs, val_loss, 'b', label='Validation loss')\n",
    "plt.title('Training and validation loss')\n",
    "plt.legend()\n",
    "\n",
    "plt.show()"
   ]
  },
  {
   "cell_type": "code",
   "execution_count": 0,
   "metadata": {
    "colab": {
     "base_uri": "https://localhost:8080/",
     "height": 755
    },
    "colab_type": "code",
    "id": "qnSTby4DEY6H",
    "outputId": "630bcbce-a9d0-40f6-f969-d96607e64403"
   },
   "outputs": [
    {
     "name": "stdout",
     "output_type": "stream",
     "text": [
      "Train on 55000 samples, validate on 5000 samples\n",
      "Epoch 1/20\n",
      "55000/55000 [==============================] - 6s 111us/sample - loss: 0.5144 - acc: 0.8096 - val_loss: 0.3468 - val_acc: 0.8754\n",
      "Epoch 2/20\n",
      "55000/55000 [==============================] - 6s 105us/sample - loss: 0.3521 - acc: 0.8691 - val_loss: 0.2934 - val_acc: 0.8936\n",
      "Epoch 3/20\n",
      "55000/55000 [==============================] - 6s 104us/sample - loss: 0.3099 - acc: 0.8835 - val_loss: 0.2655 - val_acc: 0.8986\n",
      "Epoch 4/20\n",
      "55000/55000 [==============================] - 6s 104us/sample - loss: 0.2840 - acc: 0.8947 - val_loss: 0.2602 - val_acc: 0.8988\n",
      "Epoch 5/20\n",
      "55000/55000 [==============================] - 6s 102us/sample - loss: 0.2635 - acc: 0.9020 - val_loss: 0.2403 - val_acc: 0.9100\n",
      "Epoch 6/20\n",
      "55000/55000 [==============================] - 6s 105us/sample - loss: 0.2514 - acc: 0.9049 - val_loss: 0.2256 - val_acc: 0.9152\n",
      "Epoch 7/20\n",
      "55000/55000 [==============================] - 6s 102us/sample - loss: 0.2387 - acc: 0.9095 - val_loss: 0.2171 - val_acc: 0.9204\n",
      "Epoch 8/20\n",
      "55000/55000 [==============================] - 6s 102us/sample - loss: 0.2291 - acc: 0.9130 - val_loss: 0.2280 - val_acc: 0.9112\n",
      "Epoch 9/20\n",
      "55000/55000 [==============================] - 6s 102us/sample - loss: 0.2188 - acc: 0.9181 - val_loss: 0.2223 - val_acc: 0.9186\n",
      "Epoch 10/20\n",
      "55000/55000 [==============================] - 6s 104us/sample - loss: 0.2101 - acc: 0.9198 - val_loss: 0.2233 - val_acc: 0.9202\n",
      "Epoch 11/20\n",
      "55000/55000 [==============================] - 6s 102us/sample - loss: 0.2030 - acc: 0.9227 - val_loss: 0.2206 - val_acc: 0.9190\n",
      "Epoch 12/20\n",
      "55000/55000 [==============================] - 6s 103us/sample - loss: 0.1969 - acc: 0.9254 - val_loss: 0.2307 - val_acc: 0.9142\n",
      "Epoch 13/20\n",
      "55000/55000 [==============================] - 6s 103us/sample - loss: 0.1878 - acc: 0.9289 - val_loss: 0.2171 - val_acc: 0.9156\n",
      "Epoch 14/20\n",
      "55000/55000 [==============================] - 6s 102us/sample - loss: 0.1877 - acc: 0.9290 - val_loss: 0.2142 - val_acc: 0.9232\n",
      "Epoch 15/20\n",
      "55000/55000 [==============================] - 6s 102us/sample - loss: 0.1791 - acc: 0.9322 - val_loss: 0.2133 - val_acc: 0.9196\n",
      "Epoch 16/20\n",
      "55000/55000 [==============================] - 6s 103us/sample - loss: 0.1753 - acc: 0.9335 - val_loss: 0.2177 - val_acc: 0.9168\n",
      "Epoch 17/20\n",
      "55000/55000 [==============================] - 6s 103us/sample - loss: 0.1744 - acc: 0.9331 - val_loss: 0.2215 - val_acc: 0.9214\n",
      "Epoch 18/20\n",
      "55000/55000 [==============================] - 6s 102us/sample - loss: 0.1650 - acc: 0.9375 - val_loss: 0.2078 - val_acc: 0.9258\n",
      "Epoch 19/20\n",
      "55000/55000 [==============================] - 6s 101us/sample - loss: 0.1628 - acc: 0.9387 - val_loss: 0.2229 - val_acc: 0.9212\n",
      "Epoch 20/20\n",
      "55000/55000 [==============================] - 6s 100us/sample - loss: 0.1604 - acc: 0.9389 - val_loss: 0.2131 - val_acc: 0.9226\n"
     ]
    }
   ],
   "source": [
    "from tensorflow.keras.layers import Dropout\n",
    "\n",
    "model = Sequential([Conv2D(64, (3,3), activation='relu', input_shape=(28,28,1)),\n",
    "                    MaxPooling2D(2,2),\n",
    "                    Conv2D(64, (3,3), activation='relu'),\n",
    "                    MaxPooling2D(2,2),\n",
    "                    Flatten(),\n",
    "                    Dropout(0.5),\n",
    "                    Dense(128, activation='relu'),\n",
    "                    Dense(10, activation='softmax') ])\n",
    "\n",
    "model.compile( loss='sparse_categorical_crossentropy',\n",
    "               optimizer='adam',\n",
    "               metrics=['accuracy'] )\n",
    "\n",
    "history = model.fit( x_train,\n",
    "                     y_train,\n",
    "                     epochs=20, \n",
    "                     validation_data=(x_valid, y_valid) )"
   ]
  },
  {
   "cell_type": "code",
   "execution_count": 0,
   "metadata": {
    "colab": {
     "base_uri": "https://localhost:8080/",
     "height": 385
    },
    "colab_type": "code",
    "id": "mU6_w3fSIYY-",
    "outputId": "10fa9234-18b2-4229-caa2-c00174c2a664"
   },
   "outputs": [
    {
     "data": {
      "image/png": "[encoded data removed]",
      "text/plain": [
       "<Figure size 800x400 with 2 Axes>"
      ]
     },
     "metadata": {
      "tags": []
     },
     "output_type": "display_data"
    }
   ],
   "source": [
    "acc = history.history['acc']\n",
    "val_acc = history.history['val_acc']\n",
    "loss = history.history['loss']\n",
    "val_loss = history.history['val_loss']\n",
    "\n",
    "epochs = range(1, len(acc) + 1)\n",
    "\n",
    "plt.figure( figsize=(8,4), dpi=100 )\n",
    "\n",
    "plt.subplot(1,2,1)\n",
    "plt.plot(epochs, acc, 'bo', label='Training acc')\n",
    "plt.plot(epochs, val_acc, 'b', label='Validation acc')\n",
    "plt.title('Training and validation accuracy')\n",
    "plt.legend()\n",
    "\n",
    "plt.subplot(1,2,2)\n",
    "plt.plot(epochs, loss, 'bo', label='Training loss')\n",
    "plt.plot(epochs, val_loss, 'b', label='Validation loss')\n",
    "plt.title('Training and validation loss')\n",
    "plt.legend()\n",
    "\n",
    "plt.show()"
   ]
  },
  {
   "cell_type": "markdown",
   "metadata": {
    "colab_type": "text",
    "id": "nAeD73T7Tn_6"
   },
   "source": [
    "# Keras Tuner"
   ]
  },
  {
   "cell_type": "code",
   "execution_count": 35,
   "metadata": {
    "colab": {
     "base_uri": "https://localhost:8080/",
     "height": 776
    },
    "colab_type": "code",
    "id": "NKeACem1R3_5",
    "outputId": "db2776bd-d808-4465-a5fb-95a80e951079"
   },
   "outputs": [
    {
     "name": "stdout",
     "output_type": "stream",
     "text": [
      "Collecting tf-nightly-2.0-preview\n",
      "\u001b[?25l  Downloading https://files.pythonhosted.org/packages/1e/84/0eb5eb3807b851a7282865a5407d0782322f4879ee30c88f7b554127edae/tf_nightly_2.0_preview-2.0.0.dev20190824-cp36-cp36m-manylinux2010_x86_64.whl (88.8MB)\n",
      "\u001b[K     |████████████████████████████████| 88.8MB 558kB/s \n",
      "\u001b[?25hRequirement already satisfied: six>=1.10.0 in /usr/local/lib/python3.6/dist-packages (from tf-nightly-2.0-preview) (1.12.0)\n",
      "Requirement already satisfied: google-pasta>=0.1.6 in /usr/local/lib/python3.6/dist-packages (from tf-nightly-2.0-preview) (0.1.7)\n",
      "Requirement already satisfied: keras-applications>=1.0.8 in /usr/local/lib/python3.6/dist-packages (from tf-nightly-2.0-preview) (1.0.8)\n",
      "Collecting tb-nightly<1.16.0a0,>=1.15.0a0 (from tf-nightly-2.0-preview)\n",
      "\u001b[?25l  Downloading https://files.pythonhosted.org/packages/6c/71/57f72fc6d900f8b224f18ef3342035ae23c1b195053c37199accd7ac9fdf/tb_nightly-1.15.0a20190824-py3-none-any.whl (3.8MB)\n",
      "\u001b[K     |████████████████████████████████| 3.8MB 50.0MB/s \n",
      "\u001b[?25hCollecting opt-einsum>=2.3.2 (from tf-nightly-2.0-preview)\n",
      "\u001b[?25l  Downloading https://files.pythonhosted.org/packages/c0/1a/ab5683d8e450e380052d3a3e77bb2c9dffa878058f583587c3875041fb63/opt_einsum-3.0.1.tar.gz (66kB)\n",
      "\u001b[K     |████████████████████████████████| 71kB 33.0MB/s \n",
      "\u001b[?25hRequirement already satisfied: grpcio>=1.8.6 in /usr/local/lib/python3.6/dist-packages (from tf-nightly-2.0-preview) (1.15.0)\n",
      "Collecting tensorflow-estimator-2.0-preview (from tf-nightly-2.0-preview)\n",
      "\u001b[?25l  Downloading https://files.pythonhosted.org/packages/2d/09/e3a7ee314cdc11368086647c96b3c5d0005b6028a3d75957abc51cbc6dc8/tensorflow_estimator_2.0_preview-1.14.0.dev2019082111-py2.py3-none-any.whl (450kB)\n",
      "\u001b[K     |████████████████████████████████| 450kB 62.1MB/s \n",
      "\u001b[?25hRequirement already satisfied: astor>=0.6.0 in /usr/local/lib/python3.6/dist-packages (from tf-nightly-2.0-preview) (0.8.0)\n",
      "Requirement already satisfied: numpy<2.0,>=1.16.0 in /usr/local/lib/python3.6/dist-packages (from tf-nightly-2.0-preview) (1.16.4)\n",
      "Requirement already satisfied: protobuf>=3.6.1 in /usr/local/lib/python3.6/dist-packages (from tf-nightly-2.0-preview) (3.7.1)\n",
      "Requirement already satisfied: termcolor>=1.1.0 in /usr/local/lib/python3.6/dist-packages (from tf-nightly-2.0-preview) (1.1.0)\n",
      "Requirement already satisfied: wrapt>=1.11.1 in /usr/local/lib/python3.6/dist-packages (from tf-nightly-2.0-preview) (1.11.2)\n",
      "Requirement already satisfied: keras-preprocessing>=1.0.5 in /usr/local/lib/python3.6/dist-packages (from tf-nightly-2.0-preview) (1.1.0)\n",
      "Requirement already satisfied: absl-py>=0.7.0 in /usr/local/lib/python3.6/dist-packages (from tf-nightly-2.0-preview) (0.7.1)\n",
      "Requirement already satisfied: gast>=0.2.0 in /usr/local/lib/python3.6/dist-packages (from tf-nightly-2.0-preview) (0.2.2)\n",
      "Requirement already satisfied: wheel>=0.26 in /usr/local/lib/python3.6/dist-packages (from tf-nightly-2.0-preview) (0.33.4)\n",
      "Requirement already satisfied: h5py in /usr/local/lib/python3.6/dist-packages (from keras-applications>=1.0.8->tf-nightly-2.0-preview) (2.8.0)\n",
      "Requirement already satisfied: setuptools>=41.0.0 in /usr/local/lib/python3.6/dist-packages (from tb-nightly<1.16.0a0,>=1.15.0a0->tf-nightly-2.0-preview) (41.2.0)\n",
      "Requirement already satisfied: werkzeug>=0.11.15 in /usr/local/lib/python3.6/dist-packages (from tb-nightly<1.16.0a0,>=1.15.0a0->tf-nightly-2.0-preview) (0.15.5)\n",
      "Requirement already satisfied: markdown>=2.6.8 in /usr/local/lib/python3.6/dist-packages (from tb-nightly<1.16.0a0,>=1.15.0a0->tf-nightly-2.0-preview) (3.1.1)\n",
      "Building wheels for collected packages: opt-einsum\n",
      "  Building wheel for opt-einsum (setup.py) ... \u001b[?25l\u001b[?25hdone\n",
      "  Created wheel for opt-einsum: filename=opt_einsum-3.0.1-cp36-none-any.whl size=58500 sha256=bdda2a4bd2a267f873ec739bc0738dffe036840a7d11bcd16fc7c6451449c228\n",
      "  Stored in directory: /root/.cache/pip/wheels/91/98/8d/10e3d4e04c959597a411b91acd3695e9e2d210e68ce3427aad\n",
      "Successfully built opt-einsum\n",
      "Installing collected packages: tb-nightly, opt-einsum, tensorflow-estimator-2.0-preview, tf-nightly-2.0-preview\n",
      "Successfully installed opt-einsum-3.0.1 tb-nightly-1.15.0a20190824 tensorflow-estimator-2.0-preview-1.14.0.dev2019082111 tf-nightly-2.0-preview-2.0.0.dev20190824\n"
     ]
    },
    {
     "data": {
      "application/vnd.colab-display-data+json": {
       "pip_warning": {
        "packages": [
         "tensorboard",
         "tensorflow",
         "tensorflow_estimator"
        ]
       }
      }
     },
     "metadata": {
      "tags": []
     },
     "output_type": "display_data"
    }
   ],
   "source": [
    "!pip install tf-nightly-2.0-preview"
   ]
  },
  {
   "cell_type": "code",
   "execution_count": 1,
   "metadata": {
    "colab": {
     "base_uri": "https://localhost:8080/",
     "height": 35
    },
    "colab_type": "code",
    "id": "WMAB0HIlIcHz",
    "outputId": "c4973189-de2b-4f02-dbd8-5137f0225fd9"
   },
   "outputs": [
    {
     "name": "stdout",
     "output_type": "stream",
     "text": [
      "Tensorflow version 2.0.0-dev20190824\n"
     ]
    }
   ],
   "source": [
    "import tensorflow as tf\n",
    "print(\"Tensorflow version \" + tf.__version__)"
   ]
  },
  {
   "cell_type": "code",
   "execution_count": 13,
   "metadata": {
    "colab": {
     "base_uri": "https://localhost:8080/",
     "height": 1000
    },
    "colab_type": "code",
    "id": "iemIq3d7UCYX",
    "outputId": "2e18056c-c5d7-4413-cdec-ea746dd83133"
   },
   "outputs": [
    {
     "name": "stdout",
     "output_type": "stream",
     "text": [
      "Collecting git+https://github.com/keras-team/keras-tuner.git\n",
      "  Cloning https://github.com/keras-team/keras-tuner.git to /tmp/pip-req-build-3dsqe1wf\n",
      "  Running command git clone -q https://github.com/keras-team/keras-tuner.git /tmp/pip-req-build-3dsqe1wf\n",
      "Collecting tensorflow>=2.0.0-beta1 (from Keras-Tuner==0.9.0.1566662096)\n",
      "\u001b[?25l  Downloading https://files.pythonhosted.org/packages/fb/4b/77f0965ec7e8a76d3dcd6a22ca8bbd2b934cd92c4ded43fef6bea5ff3258/tensorflow-2.0.0rc0-cp36-cp36m-manylinux2010_x86_64.whl (86.3MB)\n",
      "\u001b[K     |████████████████████████████████| 86.3MB 445kB/s \n",
      "\u001b[?25hRequirement already satisfied: numpy in /usr/local/lib/python3.6/dist-packages (from Keras-Tuner==0.9.0.1566662096) (1.16.4)\n",
      "Requirement already satisfied: tabulate in /usr/local/lib/python3.6/dist-packages (from Keras-Tuner==0.9.0.1566662096) (0.8.3)\n",
      "Collecting terminaltables (from Keras-Tuner==0.9.0.1566662096)\n",
      "  Downloading https://files.pythonhosted.org/packages/9b/c4/4a21174f32f8a7e1104798c445dacdc1d4df86f2f26722767034e4de4bff/terminaltables-3.1.0.tar.gz\n",
      "Collecting colorama (from Keras-Tuner==0.9.0.1566662096)\n",
      "  Downloading https://files.pythonhosted.org/packages/4f/a6/728666f39bfff1719fc94c481890b2106837da9318031f71a8424b662e12/colorama-0.4.1-py2.py3-none-any.whl\n",
      "Requirement already satisfied: tqdm in /usr/local/lib/python3.6/dist-packages (from Keras-Tuner==0.9.0.1566662096) (4.28.1)\n",
      "Requirement already satisfied: requests in /usr/local/lib/python3.6/dist-packages (from Keras-Tuner==0.9.0.1566662096) (2.21.0)\n",
      "Requirement already satisfied: psutil in /usr/local/lib/python3.6/dist-packages (from Keras-Tuner==0.9.0.1566662096) (5.4.8)\n",
      "Requirement already satisfied: scipy in /usr/local/lib/python3.6/dist-packages (from Keras-Tuner==0.9.0.1566662096) (1.3.1)\n",
      "Requirement already satisfied: scikit-learn in /usr/local/lib/python3.6/dist-packages (from Keras-Tuner==0.9.0.1566662096) (0.21.3)\n",
      "Requirement already satisfied: absl-py>=0.7.0 in /usr/local/lib/python3.6/dist-packages (from tensorflow>=2.0.0-beta1->Keras-Tuner==0.9.0.1566662096) (0.7.1)\n",
      "Collecting tf-estimator-nightly<1.14.0.dev2019080602,>=1.14.0.dev2019080601 (from tensorflow>=2.0.0-beta1->Keras-Tuner==0.9.0.1566662096)\n",
      "\u001b[?25l  Downloading https://files.pythonhosted.org/packages/21/28/f2a27a62943d5f041e4a6fd404b2d21cb7c59b2242a4e73b03d9ba166552/tf_estimator_nightly-1.14.0.dev2019080601-py2.py3-none-any.whl (501kB)\n",
      "\u001b[K     |████████████████████████████████| 501kB 44.2MB/s \n",
      "\u001b[?25hRequirement already satisfied: keras-applications>=1.0.8 in /usr/local/lib/python3.6/dist-packages (from tensorflow>=2.0.0-beta1->Keras-Tuner==0.9.0.1566662096) (1.0.8)\n",
      "Requirement already satisfied: astor>=0.6.0 in /usr/local/lib/python3.6/dist-packages (from tensorflow>=2.0.0-beta1->Keras-Tuner==0.9.0.1566662096) (0.8.0)\n",
      "Requirement already satisfied: keras-preprocessing>=1.0.5 in /usr/local/lib/python3.6/dist-packages (from tensorflow>=2.0.0-beta1->Keras-Tuner==0.9.0.1566662096) (1.1.0)\n",
      "Requirement already satisfied: six>=1.10.0 in /usr/local/lib/python3.6/dist-packages (from tensorflow>=2.0.0-beta1->Keras-Tuner==0.9.0.1566662096) (1.12.0)\n",
      "Requirement already satisfied: protobuf>=3.6.1 in /usr/local/lib/python3.6/dist-packages (from tensorflow>=2.0.0-beta1->Keras-Tuner==0.9.0.1566662096) (3.7.1)\n",
      "Requirement already satisfied: google-pasta>=0.1.6 in /usr/local/lib/python3.6/dist-packages (from tensorflow>=2.0.0-beta1->Keras-Tuner==0.9.0.1566662096) (0.1.7)\n",
      "Requirement already satisfied: wheel>=0.26 in /usr/local/lib/python3.6/dist-packages (from tensorflow>=2.0.0-beta1->Keras-Tuner==0.9.0.1566662096) (0.33.4)\n",
      "Requirement already satisfied: gast>=0.2.0 in /usr/local/lib/python3.6/dist-packages (from tensorflow>=2.0.0-beta1->Keras-Tuner==0.9.0.1566662096) (0.2.2)\n",
      "Collecting tb-nightly<1.15.0a20190807,>=1.15.0a20190806 (from tensorflow>=2.0.0-beta1->Keras-Tuner==0.9.0.1566662096)\n",
      "\u001b[?25l  Downloading https://files.pythonhosted.org/packages/bc/88/24b5fb7280e74c7cf65bde47c171547fd02afb3840cff41bcbe9270650f5/tb_nightly-1.15.0a20190806-py3-none-any.whl (4.3MB)\n",
      "\u001b[K     |████████████████████████████████| 4.3MB 50.9MB/s \n",
      "\u001b[?25hRequirement already satisfied: grpcio>=1.8.6 in /usr/local/lib/python3.6/dist-packages (from tensorflow>=2.0.0-beta1->Keras-Tuner==0.9.0.1566662096) (1.15.0)\n",
      "Requirement already satisfied: wrapt>=1.11.1 in /usr/local/lib/python3.6/dist-packages (from tensorflow>=2.0.0-beta1->Keras-Tuner==0.9.0.1566662096) (1.11.2)\n",
      "Requirement already satisfied: termcolor>=1.1.0 in /usr/local/lib/python3.6/dist-packages (from tensorflow>=2.0.0-beta1->Keras-Tuner==0.9.0.1566662096) (1.1.0)\n",
      "Requirement already satisfied: opt-einsum>=2.3.2 in /usr/local/lib/python3.6/dist-packages (from tensorflow>=2.0.0-beta1->Keras-Tuner==0.9.0.1566662096) (3.0.1)\n",
      "Requirement already satisfied: chardet<3.1.0,>=3.0.2 in /usr/local/lib/python3.6/dist-packages (from requests->Keras-Tuner==0.9.0.1566662096) (3.0.4)\n",
      "Requirement already satisfied: urllib3<1.25,>=1.21.1 in /usr/local/lib/python3.6/dist-packages (from requests->Keras-Tuner==0.9.0.1566662096) (1.24.3)\n",
      "Requirement already satisfied: certifi>=2017.4.17 in /usr/local/lib/python3.6/dist-packages (from requests->Keras-Tuner==0.9.0.1566662096) (2019.6.16)\n",
      "Requirement already satisfied: idna<2.9,>=2.5 in /usr/local/lib/python3.6/dist-packages (from requests->Keras-Tuner==0.9.0.1566662096) (2.8)\n",
      "Requirement already satisfied: joblib>=0.11 in /usr/local/lib/python3.6/dist-packages (from scikit-learn->Keras-Tuner==0.9.0.1566662096) (0.13.2)\n",
      "Requirement already satisfied: h5py in /usr/local/lib/python3.6/dist-packages (from keras-applications>=1.0.8->tensorflow>=2.0.0-beta1->Keras-Tuner==0.9.0.1566662096) (2.8.0)\n",
      "Requirement already satisfied: setuptools in /usr/local/lib/python3.6/dist-packages (from protobuf>=3.6.1->tensorflow>=2.0.0-beta1->Keras-Tuner==0.9.0.1566662096) (41.2.0)\n",
      "Requirement already satisfied: markdown>=2.6.8 in /usr/local/lib/python3.6/dist-packages (from tb-nightly<1.15.0a20190807,>=1.15.0a20190806->tensorflow>=2.0.0-beta1->Keras-Tuner==0.9.0.1566662096) (3.1.1)\n",
      "Requirement already satisfied: werkzeug>=0.11.15 in /usr/local/lib/python3.6/dist-packages (from tb-nightly<1.15.0a20190807,>=1.15.0a20190806->tensorflow>=2.0.0-beta1->Keras-Tuner==0.9.0.1566662096) (0.15.5)\n",
      "Building wheels for collected packages: Keras-Tuner, terminaltables\n",
      "  Building wheel for Keras-Tuner (setup.py) ... \u001b[?25l\u001b[?25hdone\n",
      "  Created wheel for Keras-Tuner: filename=Keras_Tuner-0.9.0.1566662104-cp36-none-any.whl size=76797 sha256=5e6b4195dbd09af96cfd293aa55f2c2c8eb328e0065d446253484f81c9dbeed8\n",
      "  Stored in directory: /tmp/pip-ephem-wheel-cache-c9dyeykp/wheels/33/f9/be/250538026c0381bfee3fe34b533f483c15dbfde8fbb61c8bbd\n",
      "  Building wheel for terminaltables (setup.py) ... \u001b[?25l\u001b[?25hdone\n",
      "  Created wheel for terminaltables: filename=terminaltables-3.1.0-cp36-none-any.whl size=15357 sha256=b07271a001b396226fb51388b7fed3d720c6b294e996bc2c0209bdcccaf4e76d\n",
      "  Stored in directory: /root/.cache/pip/wheels/30/6b/50/6c75775b681fb36cdfac7f19799888ef9d8813aff9e379663e\n",
      "Successfully built Keras-Tuner terminaltables\n",
      "Installing collected packages: tf-estimator-nightly, tb-nightly, tensorflow, terminaltables, colorama, Keras-Tuner\n",
      "  Found existing installation: tb-nightly 1.15.0a20190824\n",
      "    Uninstalling tb-nightly-1.15.0a20190824:\n",
      "      Successfully uninstalled tb-nightly-1.15.0a20190824\n",
      "  Found existing installation: tensorflow 1.14.0\n",
      "    Uninstalling tensorflow-1.14.0:\n",
      "      Successfully uninstalled tensorflow-1.14.0\n",
      "Successfully installed Keras-Tuner-0.9.0.1566662104 colorama-0.4.1 tb-nightly-1.15.0a20190806 tensorflow-2.0.0rc0 terminaltables-3.1.0 tf-estimator-nightly-1.14.0.dev2019080601\n"
     ]
    },
    {
     "data": {
      "application/vnd.colab-display-data+json": {
       "pip_warning": {
        "packages": [
         "kerastuner",
         "tensorboard",
         "tensorflow",
         "tensorflow_core",
         "tensorflow_estimator"
        ]
       }
      }
     },
     "metadata": {
      "tags": []
     },
     "output_type": "display_data"
    }
   ],
   "source": [
    "!pip install git+https://github.com/keras-team/keras-tuner.git"
   ]
  },
  {
   "cell_type": "code",
   "execution_count": 8,
   "metadata": {
    "colab": {
     "base_uri": "https://localhost:8080/",
     "height": 377
    },
    "colab_type": "code",
    "id": "zve-AcE-W-HR",
    "outputId": "eb01b7d7-ad39-4fed-9b2b-0fab3d4fcdde"
   },
   "outputs": [
    {
     "name": "stdout",
     "output_type": "stream",
     "text": [
      "Model: \"sequential_1\"\n",
      "_________________________________________________________________\n",
      "Layer (type)                 Output Shape              Param #   \n",
      "=================================================================\n",
      "conv2d_2 (Conv2D)            (None, 26, 26, 32)        320       \n",
      "_________________________________________________________________\n",
      "conv2d_3 (Conv2D)            (None, 24, 24, 64)        18496     \n",
      "_________________________________________________________________\n",
      "flatten_1 (Flatten)          (None, 36864)             0         \n",
      "_________________________________________________________________\n",
      "dense_2 (Dense)              (None, 20)                737300    \n",
      "_________________________________________________________________\n",
      "dropout_1 (Dropout)          (None, 20)                0         \n",
      "_________________________________________________________________\n",
      "dense_3 (Dense)              (None, 10)                210       \n",
      "=================================================================\n",
      "Total params: 756,326\n",
      "Trainable params: 756,326\n",
      "Non-trainable params: 0\n",
      "_________________________________________________________________\n"
     ]
    }
   ],
   "source": [
    "from tensorflow.keras.models import Sequential\n",
    "from tensorflow.keras.layers import Conv2D, Flatten, Dense, Dropout\n",
    "from tensorflow.keras.optimizers import Adam\n",
    "\n",
    "model = Sequential()\n",
    "model.add(Conv2D(32, kernel_size=(3,3), activation='relu', input_shape=(28,\n",
    "28, 1)))\n",
    "model.add(Conv2D(64, kernel_size=(3,3), activation='relu'))\n",
    "model.add(Flatten())\n",
    "model.add(Dense(20, activation='relu'))\n",
    "model.add(Dropout(0.2))\n",
    "model.add(Dense(10, activation='softmax'))\n",
    "model.compile(loss='categorical_crossentropy', optimizer=Adam(0.001))\n",
    "model.summary()"
   ]
  },
  {
   "cell_type": "code",
   "execution_count": 0,
   "metadata": {
    "colab": {},
    "colab_type": "code",
    "id": "l9tUYZofQXcQ"
   },
   "outputs": [],
   "source": [
    "def model_fn():\n",
    "\n",
    "  LR = Choice('learning_rate', [0.001, 0.0005, 0.0001], group='optimizer')\n",
    "  DROPOUT_RATE = Linear('dropout_rate', 0.0, 0.5, 5, group='dense')\n",
    "  NUM_DIMS = Range('num_dims', 8, 32, 8, group='dense')\n",
    "  NUM_LAYERS = Range('num_layers', 1, 3, group='dense')\n",
    "  L2_NUM_FILTERS = Range('l2_num_filters', 8, 64, 8, group='cnn')\n",
    "  L1_NUM_FILTERS = Range('l1_num_filters', 8, 64, 8, group='cnn')\n",
    "\n",
    "  model = Sequential()\n",
    "  model.add(Conv2D(L1_NUM_FILTERS, kernel_size=(3, 3), activation='relu'))\n",
    "  model.add(Conv2D(L2_NUM_FILTERS, kernel_size=(3, 3), activation='relu'))\n",
    "  model.add(Flatten())\n",
    "  \n",
    "  for _ in range(NUM_LAYERS):\n",
    "    model.add(Dense(NUM_DIMS, activation='relu'))\n",
    "    model.add(Dropout(DROPOUT_RATE))\n",
    "    \n",
    "  model.add(Dense(10, activation='softmax'))\n",
    "  model.compile(loss='categorical_crossentropy', optimizer=Adam(LR))\n",
    "  \n",
    "  return model"
   ]
  },
  {
   "cell_type": "code",
   "execution_count": 0,
   "metadata": {
    "colab": {},
    "colab_type": "code",
    "id": "N8OwIAYaVypN"
   },
   "outputs": [],
   "source": [
    "from kerastuner.tuners import RandomSearch"
   ]
  },
  {
   "cell_type": "code",
   "execution_count": 20,
   "metadata": {
    "colab": {
     "base_uri": "https://localhost:8080/",
     "height": 322
    },
    "colab_type": "code",
    "id": "tzaelkrqWA3V",
    "outputId": "2fb00325-b0f1-4fa5-94c9-99a6162695a2"
   },
   "outputs": [
    {
     "ename": "AttributeError",
     "evalue": "ignored",
     "output_type": "error",
     "traceback": [
      "\u001b[0;31m---------------------------------------------------------------------------\u001b[0m",
      "\u001b[0;31mAttributeError\u001b[0m                            Traceback (most recent call last)",
      "\u001b[0;32m<ipython-input-20-e448ac2266c0>\u001b[0m in \u001b[0;36m<module>\u001b[0;34m()\u001b[0m\n\u001b[0;32m----> 1\u001b[0;31m \u001b[0mtuner\u001b[0m \u001b[0;34m=\u001b[0m \u001b[0mRandomSearch\u001b[0m\u001b[0;34m(\u001b[0m \u001b[0mmodel_fn\u001b[0m\u001b[0;34m,\u001b[0m \u001b[0mobjective\u001b[0m\u001b[0;34m=\u001b[0m\u001b[0;34m'val_accuracy'\u001b[0m\u001b[0;34m,\u001b[0m \u001b[0mmax_trials\u001b[0m\u001b[0;34m=\u001b[0m\u001b[0;36m5\u001b[0m \u001b[0;34m)\u001b[0m\u001b[0;34m\u001b[0m\u001b[0;34m\u001b[0m\u001b[0m\n\u001b[0m",
      "\u001b[0;32m/usr/local/lib/python3.6/dist-packages/kerastuner/tuners/randomsearch.py\u001b[0m in \u001b[0;36m__init__\u001b[0;34m(self, hypermodel, objective, max_trials, seed, **kwargs)\u001b[0m\n\u001b[1;32m    120\u001b[0m             \u001b[0mobjective\u001b[0m\u001b[0;34m,\u001b[0m\u001b[0;34m\u001b[0m\u001b[0;34m\u001b[0m\u001b[0m\n\u001b[1;32m    121\u001b[0m             \u001b[0mmax_trials\u001b[0m\u001b[0;34m,\u001b[0m\u001b[0;34m\u001b[0m\u001b[0;34m\u001b[0m\u001b[0m\n\u001b[0;32m--> 122\u001b[0;31m             **kwargs)\n\u001b[0m",
      "\u001b[0;32m/usr/local/lib/python3.6/dist-packages/kerastuner/engine/tuner.py\u001b[0m in \u001b[0;36m__init__\u001b[0;34m(self, oracle, hypermodel, objective, max_trials, executions_per_trial, max_model_size, optimizer, loss, metrics, hyperparameters, tune_new_entries, allow_new_entries, distribution_strategy, directory, project_name, logger)\u001b[0m\n\u001b[1;32m    196\u001b[0m             \u001b[0mresults_dir\u001b[0m\u001b[0;34m=\u001b[0m\u001b[0mos\u001b[0m\u001b[0;34m.\u001b[0m\u001b[0mpath\u001b[0m\u001b[0;34m.\u001b[0m\u001b[0mjoin\u001b[0m\u001b[0;34m(\u001b[0m\u001b[0mself\u001b[0m\u001b[0;34m.\u001b[0m\u001b[0mdirectory\u001b[0m\u001b[0;34m,\u001b[0m \u001b[0mself\u001b[0m\u001b[0;34m.\u001b[0m\u001b[0mproject_name\u001b[0m\u001b[0;34m)\u001b[0m\u001b[0;34m,\u001b[0m\u001b[0;34m\u001b[0m\u001b[0;34m\u001b[0m\u001b[0m\n\u001b[1;32m    197\u001b[0m             \u001b[0mtmp_dir\u001b[0m\u001b[0;34m=\u001b[0m\u001b[0mos\u001b[0m\u001b[0;34m.\u001b[0m\u001b[0mpath\u001b[0m\u001b[0;34m.\u001b[0m\u001b[0mjoin\u001b[0m\u001b[0;34m(\u001b[0m\u001b[0mself\u001b[0m\u001b[0;34m.\u001b[0m\u001b[0mdirectory\u001b[0m\u001b[0;34m,\u001b[0m \u001b[0;34m'tmp'\u001b[0m\u001b[0;34m)\u001b[0m\u001b[0;34m,\u001b[0m\u001b[0;34m\u001b[0m\u001b[0;34m\u001b[0m\u001b[0m\n\u001b[0;32m--> 198\u001b[0;31m             \u001b[0mexport_dir\u001b[0m\u001b[0;34m=\u001b[0m\u001b[0mos\u001b[0m\u001b[0;34m.\u001b[0m\u001b[0mpath\u001b[0m\u001b[0;34m.\u001b[0m\u001b[0mjoin\u001b[0m\u001b[0;34m(\u001b[0m\u001b[0mself\u001b[0m\u001b[0;34m.\u001b[0m\u001b[0mdirectory\u001b[0m\u001b[0;34m,\u001b[0m \u001b[0;34m'export'\u001b[0m\u001b[0;34m)\u001b[0m\u001b[0;34m\u001b[0m\u001b[0;34m\u001b[0m\u001b[0m\n\u001b[0m\u001b[1;32m    199\u001b[0m         )\n\u001b[1;32m    200\u001b[0m         \u001b[0mself\u001b[0m\u001b[0;34m.\u001b[0m\u001b[0m_display\u001b[0m \u001b[0;34m=\u001b[0m \u001b[0mtuner_utils\u001b[0m\u001b[0;34m.\u001b[0m\u001b[0mDisplay\u001b[0m\u001b[0;34m(\u001b[0m\u001b[0mself\u001b[0m\u001b[0;34m.\u001b[0m\u001b[0m_host\u001b[0m\u001b[0;34m)\u001b[0m\u001b[0;34m\u001b[0m\u001b[0;34m\u001b[0m\u001b[0m\n",
      "\u001b[0;32m/usr/local/lib/python3.6/dist-packages/kerastuner/abstractions/host.py\u001b[0m in \u001b[0;36m__init__\u001b[0;34m(self, results_dir, tmp_dir, export_dir)\u001b[0m\n\u001b[1;32m     59\u001b[0m         \u001b[0mself\u001b[0m\u001b[0;34m.\u001b[0m\u001b[0m_get_gpu_usage\u001b[0m\u001b[0;34m(\u001b[0m\u001b[0;34m)\u001b[0m  \u001b[0;31m# to get gpu driver info > before get software\u001b[0m\u001b[0;34m\u001b[0m\u001b[0;34m\u001b[0m\u001b[0m\n\u001b[1;32m     60\u001b[0m \u001b[0;34m\u001b[0m\u001b[0m\n\u001b[0;32m---> 61\u001b[0;31m         \u001b[0mself\u001b[0m\u001b[0;34m.\u001b[0m\u001b[0msoftware\u001b[0m \u001b[0;34m=\u001b[0m \u001b[0mself\u001b[0m\u001b[0;34m.\u001b[0m\u001b[0m_get_software\u001b[0m\u001b[0;34m(\u001b[0m\u001b[0;34m)\u001b[0m\u001b[0;34m\u001b[0m\u001b[0;34m\u001b[0m\u001b[0m\n\u001b[0m\u001b[1;32m     62\u001b[0m \u001b[0;34m\u001b[0m\u001b[0m\n\u001b[1;32m     63\u001b[0m         \u001b[0mself\u001b[0m\u001b[0;34m.\u001b[0m\u001b[0mresults_dir\u001b[0m \u001b[0;34m=\u001b[0m \u001b[0mresults_dir\u001b[0m \u001b[0;32mor\u001b[0m \u001b[0;34m'results'\u001b[0m\u001b[0;34m\u001b[0m\u001b[0;34m\u001b[0m\u001b[0m\n",
      "\u001b[0;32m/usr/local/lib/python3.6/dist-packages/kerastuner/abstractions/host.py\u001b[0m in \u001b[0;36m_get_software\u001b[0;34m(self)\u001b[0m\n\u001b[1;32m    206\u001b[0m \u001b[0;34m\u001b[0m\u001b[0m\n\u001b[1;32m    207\u001b[0m         packages = {\n\u001b[0;32m--> 208\u001b[0;31m             \u001b[0;34m\"kerastuner\"\u001b[0m\u001b[0;34m:\u001b[0m \u001b[0mkt\u001b[0m\u001b[0;34m.\u001b[0m\u001b[0m__version__\u001b[0m\u001b[0;34m,\u001b[0m\u001b[0;34m\u001b[0m\u001b[0;34m\u001b[0m\u001b[0m\n\u001b[0m\u001b[1;32m    209\u001b[0m             \u001b[0;31m# Not all tensorflow versions have the __version__ field.\u001b[0m\u001b[0;34m\u001b[0m\u001b[0;34m\u001b[0m\u001b[0;34m\u001b[0m\u001b[0m\n\u001b[1;32m    210\u001b[0m             \u001b[0;34m\"tensorflow\"\u001b[0m\u001b[0;34m:\u001b[0m \u001b[0mtf\u001b[0m\u001b[0;34m.\u001b[0m\u001b[0m__dict__\u001b[0m\u001b[0;34m.\u001b[0m\u001b[0mget\u001b[0m\u001b[0;34m(\u001b[0m\u001b[0;34m'__version__'\u001b[0m\u001b[0;34m)\u001b[0m\u001b[0;34m,\u001b[0m\u001b[0;34m\u001b[0m\u001b[0;34m\u001b[0m\u001b[0m\n",
      "\u001b[0;31mAttributeError\u001b[0m: module 'kerastuner' has no attribute '__version__'"
     ]
    }
   ],
   "source": [
    "tuner = RandomSearch( model_fn, objective='val_accuracy', max_trials=5 )"
   ]
  },
  {
   "cell_type": "code",
   "execution_count": 0,
   "metadata": {
    "colab": {},
    "colab_type": "code",
    "id": "JsPiwTN6VhD6"
   },
   "outputs": [],
   "source": []
  }
 ],
 "metadata": {
  "accelerator": "GPU",
  "colab": {
   "collapsed_sections": [],
   "name": "Keras Basics",
   "provenance": [],
   "version": "0.3.2"
  },
  "kernelspec": {
   "display_name": "Python 3",
   "language": "python",
   "name": "python3"
  },
  "language_info": {
   "codemirror_mode": {
    "name": "ipython",
    "version": 3
   },
   "file_extension": ".py",
   "mimetype": "text/x-python",
   "name": "python",
   "nbconvert_exporter": "python",
   "pygments_lexer": "ipython3",
   "version": "3.6.5"
  },
  "toc": {
   "base_numbering": 1,
   "nav_menu": {},
   "number_sections": true,
   "sideBar": true,
   "skip_h1_title": false,
   "title_cell": "Table of Contents",
   "title_sidebar": "Contents",
   "toc_cell": false,
   "toc_position": {},
   "toc_section_display": true,
   "toc_window_display": false
  }
 },
 "nbformat": 4,
 "nbformat_minor": 1
}
